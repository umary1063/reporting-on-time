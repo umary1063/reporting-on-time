{
 "cells": [
  {
   "cell_type": "markdown",
   "id": "55531657",
   "metadata": {},
   "source": [
    "#### importing libraries"
   ]
  },
  {
   "cell_type": "code",
   "execution_count": 1,
   "id": "98cde4ec",
   "metadata": {},
   "outputs": [],
   "source": [
    "import numpy as np\n",
    "import pandas as pd\n",
    "\n",
    "import warnings\n",
    "warnings.filterwarnings('ignore')\n",
    "\n",
    "pd.set_option('display.max_columns', None)"
   ]
  },
  {
   "cell_type": "markdown",
   "id": "7169b6f6",
   "metadata": {},
   "source": [
    "#### importing data"
   ]
  },
  {
   "cell_type": "code",
   "execution_count": 2,
   "id": "2d9f84de",
   "metadata": {},
   "outputs": [],
   "source": [
    "data_1=pd.read_excel('mainphc1.xls',  parse_dates=True)"
   ]
  },
  {
   "cell_type": "code",
   "execution_count": 3,
   "id": "9a6a5177",
   "metadata": {},
   "outputs": [],
   "source": [
    "data_2=pd.read_excel('mainphc2.xls',  parse_dates=True)"
   ]
  },
  {
   "cell_type": "markdown",
   "id": "7c65ee07",
   "metadata": {},
   "source": [
    "#### merging 2 favorites from marta dhis2 login"
   ]
  },
  {
   "cell_type": "code",
   "execution_count": 4,
   "id": "de35455d",
   "metadata": {},
   "outputs": [],
   "source": [
    "data = pd.merge(data_1,data_2, how='left', on=['orgunitlevel5','periodname'])"
   ]
  },
  {
   "cell_type": "code",
   "execution_count": 5,
   "id": "866af9e4",
   "metadata": {},
   "outputs": [],
   "source": [
    "dict={'orgunitlevel3_x': 'LGA',\n",
    "      'orgunitlevel4_x': 'Ward',\n",
    "      'orgunitlevel5': 'Facility Name',\n",
    "      'periodname_x':'Month Year',\n",
    "      'NHMIS Monthly Summary Form (Version 2019) Actual reports on time':'Actual Reports on Time'}"
   ]
  },
  {
   "cell_type": "code",
   "execution_count": 6,
   "id": "3da9136e",
   "metadata": {},
   "outputs": [],
   "source": [
    "data.rename(columns=dict, inplace=True)"
   ]
  },
  {
   "cell_type": "code",
   "execution_count": 7,
   "id": "d58e7c98",
   "metadata": {},
   "outputs": [],
   "source": [
    "drop = data.drop(columns= 'orgunitlevel1_y', inplace=True)"
   ]
  },
  {
   "cell_type": "code",
   "execution_count": 8,
   "id": "29e5a2d4",
   "metadata": {},
   "outputs": [],
   "source": [
    "drop = data.drop(columns= 'orgunitlevel2_y',inplace=True)"
   ]
  },
  {
   "cell_type": "code",
   "execution_count": 9,
   "id": "3d9a07cb",
   "metadata": {},
   "outputs": [],
   "source": [
    "drop = data.drop(columns= 'orgunitlevel3_y',inplace=True)"
   ]
  },
  {
   "cell_type": "code",
   "execution_count": 10,
   "id": "8b509bcb",
   "metadata": {},
   "outputs": [],
   "source": [
    "drop = data.drop(columns= 'orgunitlevel4_y',inplace=True)"
   ]
  },
  {
   "cell_type": "code",
   "execution_count": 11,
   "id": "df80ffbd",
   "metadata": {},
   "outputs": [],
   "source": [
    "drop = data.drop(columns= 'organisationunitname_y',inplace=True)"
   ]
  },
  {
   "cell_type": "code",
   "execution_count": 12,
   "id": "95ff1c51",
   "metadata": {},
   "outputs": [],
   "source": [
    "drop = data.drop(columns= 'orgunitlevel1_x',inplace=True)"
   ]
  },
  {
   "cell_type": "code",
   "execution_count": 13,
   "id": "d53cc0f7",
   "metadata": {},
   "outputs": [],
   "source": [
    "drop = data.drop(columns= 'orgunitlevel2_x',inplace=True)"
   ]
  },
  {
   "cell_type": "code",
   "execution_count": 14,
   "id": "b5767456",
   "metadata": {},
   "outputs": [],
   "source": [
    "drop = data.drop(columns= 'organisationunitname_x',inplace=True)"
   ]
  },
  {
   "cell_type": "markdown",
   "id": "347ae352",
   "metadata": {},
   "source": [
    "#### removing \"ba\" in all columns"
   ]
  },
  {
   "cell_type": "code",
   "execution_count": 15,
   "id": "5cbf0120",
   "metadata": {},
   "outputs": [],
   "source": [
    "data['LGA'] = data['LGA'].str.replace('Local Government Area', '')\n",
    "data['Ward'] = data['Ward'].str.replace('Ward', '')"
   ]
  },
  {
   "cell_type": "code",
   "execution_count": 16,
   "id": "0b98c4f0",
   "metadata": {},
   "outputs": [],
   "source": [
    "data['LGA'] = data['LGA'].str.replace('ba ','')\n",
    "data['Ward'] = data['Ward'].str.replace('ba ','')\n",
    "data['Facility Name'] = data['Facility Name'].str.replace('ba ','')"
   ]
  },
  {
   "cell_type": "markdown",
   "id": "979353d4",
   "metadata": {},
   "source": [
    "#### renaming facility names"
   ]
  },
  {
   "cell_type": "code",
   "execution_count": 17,
   "id": "176b3be2",
   "metadata": {},
   "outputs": [],
   "source": [
    "data['Facility Name'] = data['Facility Name'].replace(to_replace='BaPrimary Health Centre', \n",
    "                                                        value='Baba Primary Health Centre')"
   ]
  },
  {
   "cell_type": "code",
   "execution_count": 18,
   "id": "db9252f8",
   "metadata": {},
   "outputs": [],
   "source": [
    "data['Facility Name'] = data['Facility Name'].replace(to_replace='KurPrimary Health Centre', \n",
    "                                                        value='Kurba Primary Health Centre')"
   ]
  },
  {
   "cell_type": "code",
   "execution_count": 19,
   "id": "2910e406",
   "metadata": {},
   "outputs": [],
   "source": [
    "data['Facility Name'] = data['Facility Name'].replace(to_replace='FelunAb Primary Health Clinic', \n",
    "                                                        value='Felun Abba Primary Health Clinic')"
   ]
  },
  {
   "cell_type": "code",
   "execution_count": 20,
   "id": "71d430b0",
   "metadata": {},
   "outputs": [],
   "source": [
    "data['Facility Name'] = data['Facility Name'].replace(to_replace='Gamr Primary Health Centre',\n",
    "                                                        value='Gambar Primary Health Centre')"
   ]
  },
  {
   "cell_type": "code",
   "execution_count": 21,
   "id": "22e43505",
   "metadata": {},
   "outputs": [],
   "source": [
    "data['Facility Name'] = data['Facility Name'].replace(to_replace='Mll Primary Health Centre', \n",
    "                                                        value='Mball Primary Health Centre')"
   ]
  },
  {
   "cell_type": "code",
   "execution_count": 22,
   "id": "49aefc16",
   "metadata": {},
   "outputs": [],
   "source": [
    "data['Facility Name'] = data['Facility Name'].replace(to_replace='GuyaPrimary Health Centre', \n",
    "                                                        value='Guyaba Primary Health Centre')"
   ]
  },
  {
   "cell_type": "code",
   "execution_count": 23,
   "id": "f3155eff",
   "metadata": {},
   "outputs": [],
   "source": [
    "data['Facility Name'] = data['Facility Name'].replace(to_replace='Nardo Primary Health Centre', \n",
    "                                                        value='Nabardo Primary Health Centre')"
   ]
  },
  {
   "cell_type": "code",
   "execution_count": 24,
   "id": "3745c2e7",
   "metadata": {},
   "outputs": [],
   "source": [
    "data['Facility Name'] = data['Facility Name'].replace(to_replace=' TalModel Primary Health Centre ', \n",
    "                                                        value='Talba Model Primary Health Centre')"
   ]
  },
  {
   "cell_type": "code",
   "execution_count": null,
   "id": "56030814",
   "metadata": {},
   "outputs": [],
   "source": [
    "data.to_excel('343.xlsx')"
   ]
  },
  {
   "cell_type": "markdown",
   "id": "110e4745",
   "metadata": {},
   "source": [
    "#### importing addtional 90 facilities"
   ]
  },
  {
   "cell_type": "code",
   "execution_count": null,
   "id": "c355c15e",
   "metadata": {},
   "outputs": [],
   "source": [
    "additional=pd.read_excel('additional.xls',  parse_dates=True)"
   ]
  },
  {
   "cell_type": "code",
   "execution_count": null,
   "id": "4bd31896",
   "metadata": {},
   "outputs": [],
   "source": [
    "drop = additional.drop(columns= 'orgunitlevel1', inplace=True)"
   ]
  },
  {
   "cell_type": "code",
   "execution_count": null,
   "id": "0417c677",
   "metadata": {},
   "outputs": [],
   "source": [
    "drop = additional.drop(columns= 'orgunitlevel2', inplace=True)"
   ]
  },
  {
   "cell_type": "code",
   "execution_count": null,
   "id": "7644cce1",
   "metadata": {},
   "outputs": [],
   "source": [
    "drop = additional.drop(columns= 'organisationunitname', inplace=True)"
   ]
  },
  {
   "cell_type": "markdown",
   "id": "6b6bc669",
   "metadata": {},
   "source": [
    "#### renaming columns"
   ]
  },
  {
   "cell_type": "code",
   "execution_count": null,
   "id": "5d1fd910",
   "metadata": {},
   "outputs": [],
   "source": [
    "dict={'orgunitlevel3': 'LGA',\n",
    "      'orgunitlevel4': 'Ward',\n",
    "      'orgunitlevel5': 'Facility Name',\n",
    "      'NHMIS Monthly Summary Form (Version 2019) Actual reports on time':'Actual Reports on Time'}"
   ]
  },
  {
   "cell_type": "code",
   "execution_count": null,
   "id": "91843c5f",
   "metadata": {},
   "outputs": [],
   "source": [
    "additional.rename(columns=dict, inplace=True)"
   ]
  },
  {
   "cell_type": "code",
   "execution_count": null,
   "id": "40183e55",
   "metadata": {},
   "outputs": [],
   "source": [
    "additional['LGA'] = additional['LGA'].str.replace('Local Government Area', '')\n",
    "additional['Ward'] = additional['Ward'].str.replace('Ward', '')"
   ]
  },
  {
   "cell_type": "code",
   "execution_count": null,
   "id": "4fb8ceb2",
   "metadata": {},
   "outputs": [],
   "source": [
    "additional['LGA'] = additional['LGA'].str.replace('ba ','')\n",
    "additional['Ward'] = additional['Ward'].str.replace('ba ','')\n",
    "additional['Facility Name'] = additional['Facility Name'].str.replace('ba ','')"
   ]
  },
  {
   "cell_type": "code",
   "execution_count": null,
   "id": "8161444d",
   "metadata": {},
   "outputs": [],
   "source": [
    "umar = pd.concat([data, additional])"
   ]
  },
  {
   "cell_type": "code",
   "execution_count": null,
   "id": "1ac3da9f",
   "metadata": {},
   "outputs": [],
   "source": [
    "umar.to_excel('90.xlsx')"
   ]
  },
  {
   "cell_type": "markdown",
   "id": "79a29643",
   "metadata": {},
   "source": [
    "### private facilities "
   ]
  },
  {
   "cell_type": "code",
   "execution_count": null,
   "id": "38365da7",
   "metadata": {},
   "outputs": [],
   "source": [
    "private=pd.read_excel('private.xls',  parse_dates=True)"
   ]
  },
  {
   "cell_type": "code",
   "execution_count": null,
   "id": "f497bc3c",
   "metadata": {},
   "outputs": [],
   "source": [
    "drop = private.drop(columns= 'orgunitlevel1', inplace=True)"
   ]
  },
  {
   "cell_type": "code",
   "execution_count": null,
   "id": "a090d0c4",
   "metadata": {},
   "outputs": [],
   "source": [
    "drop = private.drop(columns= 'orgunitlevel2', inplace=True)"
   ]
  },
  {
   "cell_type": "code",
   "execution_count": null,
   "id": "74b0af4f",
   "metadata": {},
   "outputs": [],
   "source": [
    "drop = private.drop(columns= 'organisationunitname', inplace=True)"
   ]
  },
  {
   "cell_type": "markdown",
   "id": "2eab5023",
   "metadata": {},
   "source": [
    "#### renaming columns"
   ]
  },
  {
   "cell_type": "code",
   "execution_count": null,
   "id": "0857260d",
   "metadata": {},
   "outputs": [],
   "source": [
    "dict={'orgunitlevel3': 'LGA',\n",
    "      'orgunitlevel4': 'Ward',\n",
    "      'orgunitlevel5': 'Facility Name',\n",
    "      'NHMIS Monthly Summary Form (Version 2019) Actual reports on time':'Actual Reports on Time'}"
   ]
  },
  {
   "cell_type": "code",
   "execution_count": null,
   "id": "9c8fbce4",
   "metadata": {},
   "outputs": [],
   "source": [
    "private.rename(columns=dict, inplace=True)"
   ]
  },
  {
   "cell_type": "code",
   "execution_count": null,
   "id": "febea96e",
   "metadata": {},
   "outputs": [],
   "source": [
    "private['LGA'] = private['LGA'].str.replace('Local Government Area', '')\n",
    "private['Ward'] = private['Ward'].str.replace('Ward', '')"
   ]
  },
  {
   "cell_type": "code",
   "execution_count": null,
   "id": "f288a699",
   "metadata": {},
   "outputs": [],
   "source": [
    "private['LGA'] = private['LGA'].str.replace('ba ','')\n",
    "private['Ward'] = private['Ward'].str.replace('ba ','')\n",
    "private['Facility Name'] = private['Facility Name'].str.replace('ba ','')"
   ]
  },
  {
   "cell_type": "code",
   "execution_count": null,
   "id": "b877418a",
   "metadata": {},
   "outputs": [],
   "source": []
  },
  {
   "cell_type": "markdown",
   "id": "c1db92f2",
   "metadata": {},
   "source": [
    "#### concatinating to 476"
   ]
  },
  {
   "cell_type": "code",
   "execution_count": null,
   "id": "f5e75e63",
   "metadata": {},
   "outputs": [],
   "source": [
    "df = pd.concat([data, additional,private],ignore_index=True)"
   ]
  },
  {
   "cell_type": "code",
   "execution_count": null,
   "id": "7fd2cf3e",
   "metadata": {},
   "outputs": [],
   "source": [
    "df.set_index('Facility Name', inplace=True)"
   ]
  },
  {
   "cell_type": "code",
   "execution_count": null,
   "id": "dcfc64c4",
   "metadata": {},
   "outputs": [],
   "source": [
    "#df=df.fillna(0)"
   ]
  },
  {
   "cell_type": "markdown",
   "id": "1ec11b64",
   "metadata": {},
   "source": [
    "#### saving clean file"
   ]
  },
  {
   "cell_type": "code",
   "execution_count": null,
   "id": "eda6b460",
   "metadata": {},
   "outputs": [],
   "source": [
    "df.to_excel('475.xlsx')"
   ]
  },
  {
   "cell_type": "markdown",
   "id": "b14a2222",
   "metadata": {},
   "source": [
    "#### Delete Baima, and also edit Talba MCH"
   ]
  },
  {
   "cell_type": "code",
   "execution_count": null,
   "id": "b02c0ff0",
   "metadata": {},
   "outputs": [],
   "source": []
  }
 ],
 "metadata": {
  "kernelspec": {
   "display_name": "Python 3",
   "language": "python",
   "name": "python3"
  },
  "language_info": {
   "codemirror_mode": {
    "name": "ipython",
    "version": 3
   },
   "file_extension": ".py",
   "mimetype": "text/x-python",
   "name": "python",
   "nbconvert_exporter": "python",
   "pygments_lexer": "ipython3",
   "version": "3.8.8"
  }
 },
 "nbformat": 4,
 "nbformat_minor": 5
}
