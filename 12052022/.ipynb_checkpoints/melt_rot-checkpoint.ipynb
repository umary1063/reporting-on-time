{
 "cells": [
  {
   "cell_type": "code",
   "execution_count": 1,
   "id": "5c35f9ae",
   "metadata": {},
   "outputs": [],
   "source": [
    "import warnings\n",
    "warnings.filterwarnings('ignore')"
   ]
  },
  {
   "cell_type": "code",
   "execution_count": 2,
   "id": "d5b7d9a4",
   "metadata": {},
   "outputs": [],
   "source": [
    "import pandas as pd\n",
    "import numpy as np"
   ]
  },
  {
   "cell_type": "code",
   "execution_count": 8,
   "id": "802ca50d",
   "metadata": {},
   "outputs": [],
   "source": [
    "a=pd.read_excel(r'C:\\Users\\Umar Muhammad\\Dropbox\\T03 Bauchi\\FY22\\Q3\\april\\reporting on time\\12052022\\rot_additional.xlsx')"
   ]
  },
  {
   "cell_type": "code",
   "execution_count": 9,
   "id": "b28c152f",
   "metadata": {},
   "outputs": [],
   "source": [
    "b=pd.read_excel(r'C:\\Users\\Umar Muhammad\\Dropbox\\T03 Bauchi\\FY22\\Q3\\april\\reporting on time\\12052022\\rot_mainphcs.xlsx')"
   ]
  },
  {
   "cell_type": "code",
   "execution_count": 10,
   "id": "d9cb1cf7",
   "metadata": {},
   "outputs": [],
   "source": [
    "c=pd.read_excel('rot_private.xlsx')"
   ]
  },
  {
   "cell_type": "code",
   "execution_count": 11,
   "id": "d815167d",
   "metadata": {
    "scrolled": true
   },
   "outputs": [],
   "source": [
    "melt = pd.concat([a,b,c], ignore_index=False)"
   ]
  },
  {
   "cell_type": "code",
   "execution_count": 12,
   "id": "7b50011c",
   "metadata": {},
   "outputs": [],
   "source": [
    "melt = melt.set_index('LGA')"
   ]
  },
  {
   "cell_type": "code",
   "execution_count": 14,
   "id": "de8f96c0",
   "metadata": {},
   "outputs": [],
   "source": [
    "melt.to_excel('rot_bauchi.xls', index = True)"
   ]
  },
  {
   "cell_type": "code",
   "execution_count": null,
   "id": "7e38a826",
   "metadata": {},
   "outputs": [],
   "source": []
  }
 ],
 "metadata": {
  "kernelspec": {
   "display_name": "Python 3",
   "language": "python",
   "name": "python3"
  },
  "language_info": {
   "codemirror_mode": {
    "name": "ipython",
    "version": 3
   },
   "file_extension": ".py",
   "mimetype": "text/x-python",
   "name": "python",
   "nbconvert_exporter": "python",
   "pygments_lexer": "ipython3",
   "version": "3.8.8"
  }
 },
 "nbformat": 4,
 "nbformat_minor": 5
}
